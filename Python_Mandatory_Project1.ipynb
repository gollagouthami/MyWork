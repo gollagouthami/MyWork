{
  "nbformat": 4,
  "nbformat_minor": 0,
  "metadata": {
    "colab": {
      "provenance": []
    },
    "kernelspec": {
      "name": "python3",
      "display_name": "Python 3"
    },
    "language_info": {
      "name": "python"
    }
  },
  "cells": [
    {
      "cell_type": "markdown",
      "source": [
        "Q1: You are working in a bank and you have been given two lists of the employees who worked in 2021. Employee’s name in list 1 are Ramesh, Suresh, Mahesh, Ali, Jacob and Saritha. List 2 contains the names of Ali, Mukesh, Mahesh, Jacob, Sai, Sarita. Please write a program which helps to identify people who are common in both lists. Please do not use any in-built function. "
      ],
      "metadata": {
        "id": "mo8kWEKdJpey"
      }
    },
    {
      "cell_type": "code",
      "source": [
        "a = [\"Ramesh\", \"Suresh\", \"Mahesh\", \"Ali\", \"Jacob\", \"Sarita\"]\n",
        "b = [\"Ali\", \"Mukesh\", \"Mahesh\", \"Jacob\", \"Sai\", \"Sarita\"]\n",
        "c =[]\n",
        "\n",
        "for i in a:\n",
        "  for j in b:\n",
        "    if i == j:\n",
        "      c.append(i)\n",
        "    \n",
        "print(c)\n"
      ],
      "metadata": {
        "colab": {
          "base_uri": "https://localhost:8080/"
        },
        "id": "7jFa8UWlJr2u",
        "outputId": "cfab2510-30f0-4559-c01a-b3cfc91f0756"
      },
      "execution_count": 4,
      "outputs": [
        {
          "output_type": "stream",
          "name": "stdout",
          "text": [
            "['Mahesh', 'Ali', 'Jacob', 'Sarita']\n"
          ]
        }
      ]
    },
    {
      "cell_type": "code",
      "source": [],
      "metadata": {
        "id": "nBfs6ggSNNaH"
      },
      "execution_count": null,
      "outputs": []
    },
    {
      "cell_type": "markdown",
      "source": [
        "Q2: While entering data, someone entered a few names as a common string “Ramesh Suresh Mohit”. Please write a program which separates all the names and convert them into a list. Once converted in a list, please write a program which adds their age. \n",
        "\n",
        "\n",
        "Ramesh :  25\n",
        "\n",
        "Suresh : 22\n",
        "\n",
        "Mohit : 26"
      ],
      "metadata": {
        "id": "iMIhlHm8NRn-"
      }
    },
    {
      "cell_type": "code",
      "source": [
        "a = str(input(\"Entered few names :\"))\n",
        "list1 = []\n",
        "b = a.split()\n",
        "\n",
        "for i in b:\n",
        "  list1.append(i)\n",
        "\n",
        "dict1 ={}\n",
        "for j in list1:\n",
        "  if j == \"Ramesh\":\n",
        "    dict1[\"Ramesh\"] = 25\n",
        "  if j == \"Suresh\":\n",
        "    dict1[\"Suresh\"] = 22\n",
        "  if j == \"Mohit\":\n",
        "    dict1[\"Mohit\"] = 26\n",
        "\n",
        "\n",
        "print(dict1)"
      ],
      "metadata": {
        "colab": {
          "base_uri": "https://localhost:8080/"
        },
        "id": "Bjujn1ctNUJ7",
        "outputId": "8f68451a-fa16-4e43-ab67-d59475324352"
      },
      "execution_count": 8,
      "outputs": [
        {
          "output_type": "stream",
          "name": "stdout",
          "text": [
            "Entered few names :Ramesh Suresh Mohit\n",
            "{'Ramesh': 25, 'Suresh': 22, 'Mohit': 26}\n"
          ]
        }
      ]
    },
    {
      "cell_type": "markdown",
      "source": [
        "Q3: A few students from a university have taken three exams\n",
        "\n",
        "Name = Sam, Jacy, Tom, Steve\n",
        "\n",
        "Python = 25, 26, 29, 28\n",
        "\n",
        "Statistics = 23, 21, 19, 25\n",
        "\n",
        "SQL = 29, 27, 28, 25\n",
        "\n",
        "\n",
        "Please write a program which calculates mean values (no in-built function for mean) of all three tests and print the highest mean value. Addition and other functions are allowed. Please also report who scored the highest mark in python using programming construct."
      ],
      "metadata": {
        "id": "XnC_pPTKTk2D"
      }
    },
    {
      "cell_type": "code",
      "source": [
        "Name = [\"Sam\", \"Jacy\", \"Tom\", \"Steve\"]\n",
        "Py = [25, 26, 29, 28]\n",
        "St = [23, 21, 19, 25]\n",
        "SQL = [29, 27, 28, 25]\n",
        "\n",
        "Name_of_len = len(Name)\n",
        "\n",
        "Sum_Of_Python = 0\n",
        "Sum_Of_Stat = 0\n",
        "Sum_Of_Sql = 0\n",
        "Max = 0\n",
        "Top_Score_Name =\" \"\n",
        "\n",
        "for i in range(Name_of_len):\n",
        "  Sum_Of_Python += Py[i] \n",
        "  Sum_Of_Stat += St[i]\n",
        "  Sum_Of_Sql += SQL[i]\n",
        "\n",
        "  if Py[i] > Max:\n",
        "    Max = Py[i]\n",
        "    Top_Score_Name = Name[i]\n",
        "\n",
        "print(\"Mean_of_Python: \",Sum_Of_Python//Name_of_len)\n",
        "print(\"Mean_of_Statistics:\",Sum_Of_Stat//Name_of_len)\n",
        "print(\"Mean_of_SQL:\",Sum_Of_Sql//Name_of_len)\n",
        "print(\"Highest Marks in Python :\",Top_Score_Name,\" \",Max)\n",
        "\n",
        "\n",
        "\n"
      ],
      "metadata": {
        "colab": {
          "base_uri": "https://localhost:8080/"
        },
        "id": "SIc4tX2l6MJp",
        "outputId": "a712367d-f5a9-479d-cd52-4c20ae547a2a"
      },
      "execution_count": null,
      "outputs": [
        {
          "output_type": "stream",
          "name": "stdout",
          "text": [
            "Mean_of_Python:  27\n",
            "Mean_of_Statistics: 22\n",
            "Mean_of_SQL: 27\n",
            "Highest Marks in Python : Tom   29\n"
          ]
        }
      ]
    },
    {
      "cell_type": "markdown",
      "source": [
        "Q4: You are working in a medical store. A patient came to your medical store and asked to buy 2 strips of paracetamol, 3 strips of azithromycin and 5 strips of Vitamin C. One strip of paracetamol costs Rs 35, one strip of azithromycin costs Rs 49 and one strip of vitamin c costs Rs. 33. Patient gave you Rs 2000. Please tell us what is the total cost of each medicine, total cost of all medicine and how much money you refunded to the patient?"
      ],
      "metadata": {
        "id": "LREmL2618pDU"
      }
    },
    {
      "cell_type": "code",
      "source": [
        "\n",
        "Strips_Of_Paracip = 2\n",
        "Strips_Of_Azithromycin = 3\n",
        "Strips_Of_VitC = 5\n",
        "\n",
        "Cost_Of_Paracip = 35\n",
        "Cost_Of_Azithromycin = 49\n",
        "Cost_Of_Vitc = 33\n",
        "\n",
        "Tot_Amount = 2000\n",
        "Tot_Cost_Of_Paracip = Strips_Of_Paracip * Cost_Of_Paracip\n",
        "Tot_Cost_Of_Azithromycin = Strips_Of_Azithromycin * Cost_Of_Azithromycin\n",
        "Tot_Cost_Of_VitC = Strips_Of_VitC * Cost_Of_Vitc\n",
        "Tot_Cost_Of_All_Medicine = Tot_Cost_Of_Paracip + Tot_Cost_Of_Azithromycin + Tot_Cost_Of_VitC\n",
        "Refund_Money = Tot_Amount - Tot_Cost_Of_All_Medicine\n",
        "\n",
        "print(\"2 Strips of Paracetamol cost :\",Tot_Cost_Of_Paracip,\"Rs\")\n",
        "print(\"3 Strips of Azithromcin cost :\",Tot_Cost_Of_Azithromycin,\"Rs\")\n",
        "print(\"5 Strips of vitminC cost : \",Tot_Cost_Of_VitC,\"Rs\")\n",
        "print(\"Total Cost Of All Medicines :\",Tot_Cost_Of_All_Medicine,\"Rs Refund Money :\",Refund_Money,\"Rs\")\n"
      ],
      "metadata": {
        "colab": {
          "base_uri": "https://localhost:8080/"
        },
        "id": "FwmpSL5j8q3A",
        "outputId": "6d320b99-4198-400c-ac25-e0267640a35f"
      },
      "execution_count": 5,
      "outputs": [
        {
          "output_type": "stream",
          "name": "stdout",
          "text": [
            "2 Strips of Paracetamol cost : 70 Rs\n",
            "3 Strips of Azithromcin cost : 147 Rs\n",
            "5 Strips of vitminC cost :  165 Rs\n",
            "Total Cost Of All Medicines : 382 Rs Refund Money : 1618 Rs\n"
          ]
        }
      ]
    },
    {
      "cell_type": "markdown",
      "source": [
        "Q5: Accept a sentence as input and find the number of vowels in it. Assume that the sentence has no punctuation marks. For example: I am learning python contains 6 vowels. This function should be applicable for all other different sentences."
      ],
      "metadata": {
        "id": "c1kG3aqd-SJ1"
      }
    },
    {
      "cell_type": "code",
      "source": [
        "a = str(input(\"Enter the sentence :\"))\n",
        "No_Of_Vowels = 0\n",
        "\n",
        "for i in a:\n",
        "  if i in 'a,e,i,o,u,A,E,I,O,U':\n",
        "    No_Of_Vowels += 1\n",
        "\n",
        "print(\"The number of vowels in given sentence :\", No_Of_Vowels)"
      ],
      "metadata": {
        "colab": {
          "base_uri": "https://localhost:8080/"
        },
        "id": "59KQgKwp-TaS",
        "outputId": "99ef362e-f2ae-4107-9cb7-ade6bcf829f3"
      },
      "execution_count": null,
      "outputs": [
        {
          "output_type": "stream",
          "name": "stdout",
          "text": [
            "Enter the sentence :Assume\n",
            "The number of vowels in given sentence : 3\n"
          ]
        }
      ]
    },
    {
      "cell_type": "markdown",
      "source": [
        "Q6: You have been appointed by the election commission to create a website. Your first task is to work on a program which tells candidates if they are eligible for voting or not. If they are eligible your output should be ‘Congrats! You are eligible’, otherwise it should tell that you have to return after X number of years. Eligibility criteria for voting is 18 years. \n",
        "\n",
        "\n",
        "For example, If someone is 18 or above your output should be ‘Congrats! You are eligible’. If someone’s age is 15 years it should print output as ‘return after 3 years’. "
      ],
      "metadata": {
        "id": "_XPOXgNTAF_g"
      }
    },
    {
      "cell_type": "code",
      "source": [
        "Age = int(input(\"Enter the Age :\"))\n",
        "\n",
        "if Age >= 18:\n",
        "  print(\"Congrats! You are eligible for Voting\")\n",
        "else:\n",
        "  print(\"Return After\",18-Age,\"Years\")"
      ],
      "metadata": {
        "colab": {
          "base_uri": "https://localhost:8080/"
        },
        "id": "bmrmmYrJAHkw",
        "outputId": "ba286d10-bda7-455d-e37a-147cc306f8d2"
      },
      "execution_count": null,
      "outputs": [
        {
          "output_type": "stream",
          "name": "stdout",
          "text": [
            "Enter the Age :18\n",
            "Congrats! You are eligible for Voting\n"
          ]
        }
      ]
    }
  ]
}