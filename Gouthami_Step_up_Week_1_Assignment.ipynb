{
  "nbformat": 4,
  "nbformat_minor": 0,
  "metadata": {
    "colab": {
      "name": "Step_up_Week_1_Assignment.ipynb",
      "provenance": [],
      "collapsed_sections": [],
      "toc_visible": true
    },
    "kernelspec": {
      "name": "python3",
      "display_name": "Python 3"
    },
    "language_info": {
      "name": "python"
    }
  },
  "cells": [
    {
      "cell_type": "markdown",
      "source": [
        "**1. Give examples of boolean, integer, float and string data types and explain them breifly (2M)**."
      ],
      "metadata": {
        "id": "KhnCfCZaKHvz"
      }
    },
    {
      "cell_type": "markdown",
      "source": [
        "Boolean = Boolean data type is a value that can only be either true or false.\n",
        "Example - X = 6\n",
        "           Y = 10\n",
        "           Print(bool(x==y)) -----false\n",
        "\n",
        "Integer : Integers are whole Numbers. It can be positive, negative,0\n",
        "Ex: 1, 23,  567,-567\n",
        "\n",
        "Float :  A float is a floating-point number, which means it is a number that has a decimal place\n",
        "Ex : 1.45, 0.234\n",
        "\n",
        "String :  A string is a sequence of characters enclosed between the double quotes(“ “).\n",
        "Ex:  “ABC123”\n",
        "      “Hello Odin Team”\n"
      ],
      "metadata": {
        "id": "ePFIHHLnyG3Q"
      }
    },
    {
      "cell_type": "markdown",
      "source": [
        "**2. Match the data structures given in column A with the types of brackets associated with them and their properties (1.5 Marks)**\n"
      ],
      "metadata": {
        "id": "D_N8QeOYHuFS"
      }
    },
    {
      "cell_type": "markdown",
      "source": [
        "| Data structues | Types of brackets |  Properties |\n",
        "| --- | --- | --- |\n",
        "| (a) List | 1. { } |  (X) Immutable and ordered |\n",
        "| (b) Tuple |2. [ ] |  (Y) Mutable and ordered   |\n",
        "| (c) Dictionary |3. ( ) | (Z)  key – value pairs |\n",
        "|"
      ],
      "metadata": {
        "id": "NoZdCboE_vn6"
      }
    },
    {
      "cell_type": "markdown",
      "source": [
        "List : List is mutable and ordered and type of brackets square brackets[]\n",
        "\n",
        "Tuple : Immutable and ordered and type of brackets round brackets ()\n",
        "\n",
        "Dictionary : key-value pairs and type pf brackets flower brackets {}"
      ],
      "metadata": {
        "id": "hQcjeAmlcbJE"
      }
    },
    {
      "cell_type": "markdown",
      "source": [
        "**3 Match Column A statements with their respective output in the below options (2.5 Marks)**\n",
        "\n",
        "| Column A | Output \n",
        "| --- | --- \n",
        "| (a) 50 % 2 | (1) 25.5\n",
        "| (b) 51 / 2 | (2) 1\n",
        "| (c) 51 // 2 | (3) 0\n",
        "| (d) bool(51 % 2) |(4) 25\n",
        "| (e)((555//5) % 5) ** 3 | (5)True\n",
        "\n",
        "\n"
      ],
      "metadata": {
        "id": "WjZxhgpxLWn4"
      }
    },
    {
      "cell_type": "code",
      "source": [
        "50%2"
      ],
      "metadata": {
        "colab": {
          "base_uri": "https://localhost:8080/"
        },
        "id": "V9nlHTUMOB_s",
        "outputId": "7c8995d0-8b55-4b69-eb52-411078577c84"
      },
      "execution_count": 28,
      "outputs": [
        {
          "output_type": "execute_result",
          "data": {
            "text/plain": [
              "0"
            ]
          },
          "metadata": {},
          "execution_count": 28
        }
      ]
    },
    {
      "cell_type": "code",
      "source": [
        "51/2"
      ],
      "metadata": {
        "colab": {
          "base_uri": "https://localhost:8080/"
        },
        "id": "j5tx7HPlO3Kt",
        "outputId": "332893a4-39b0-41ae-fc0a-3492055c4c6c"
      },
      "execution_count": 29,
      "outputs": [
        {
          "output_type": "execute_result",
          "data": {
            "text/plain": [
              "25.5"
            ]
          },
          "metadata": {},
          "execution_count": 29
        }
      ]
    },
    {
      "cell_type": "code",
      "source": [
        "51//2"
      ],
      "metadata": {
        "colab": {
          "base_uri": "https://localhost:8080/"
        },
        "id": "YYwzCdROO6OP",
        "outputId": "2fe4305b-828b-4d3b-91d4-4c760d368f66"
      },
      "execution_count": 30,
      "outputs": [
        {
          "output_type": "execute_result",
          "data": {
            "text/plain": [
              "25"
            ]
          },
          "metadata": {},
          "execution_count": 30
        }
      ]
    },
    {
      "cell_type": "code",
      "source": [
        "bool(51%2)"
      ],
      "metadata": {
        "colab": {
          "base_uri": "https://localhost:8080/"
        },
        "id": "gZ4KLn_7O9B1",
        "outputId": "5bccedfd-e49c-44af-975c-e33cb467e22d"
      },
      "execution_count": 31,
      "outputs": [
        {
          "output_type": "execute_result",
          "data": {
            "text/plain": [
              "True"
            ]
          },
          "metadata": {},
          "execution_count": 31
        }
      ]
    },
    {
      "cell_type": "code",
      "source": [
        "((555//5) % 5) ** 3"
      ],
      "metadata": {
        "colab": {
          "base_uri": "https://localhost:8080/"
        },
        "id": "xdg3eKCHPAau",
        "outputId": "a85af2ec-7bf1-4b37-9187-22f48d112a87"
      },
      "execution_count": 32,
      "outputs": [
        {
          "output_type": "execute_result",
          "data": {
            "text/plain": [
              "1"
            ]
          },
          "metadata": {},
          "execution_count": 32
        }
      ]
    },
    {
      "cell_type": "markdown",
      "source": [
        "Ans:\n",
        "\n",
        "a) 50%2 -- 0\n",
        "\n",
        "b) 51/2 -- 25.5\n",
        "\n",
        "c) 51//2 -- 25\n",
        "\n",
        "d) bool(51%2) -- true\n",
        "\n",
        "e) ((555//5) % 5) ** 3 ---1"
      ],
      "metadata": {
        "id": "jj8lmEoKcc4c"
      }
    },
    {
      "cell_type": "markdown",
      "source": [
        "**4. Write a program to convert temperature from Fahrenheit to Celsius degree.(1.5 Marks)**"
      ],
      "metadata": {
        "id": "yndIP3JuWGwc"
      }
    },
    {
      "cell_type": "code",
      "source": [
        "#Your code here\n",
        "\n",
        "Temp = float(input(\"Please enter temperature in Fahrenheit: \"))\n",
        "Celsius = (Temp - 32) * 5 / 9\n",
        "print(\"Temperature in celsius: \" , Celsius)"
      ],
      "metadata": {
        "id": "8SXtSOiYTCda",
        "colab": {
          "base_uri": "https://localhost:8080/"
        },
        "outputId": "285aa2e1-3fdf-44b5-b3ce-907cb65810d9"
      },
      "execution_count": 4,
      "outputs": [
        {
          "output_type": "stream",
          "name": "stdout",
          "text": [
            "Please enter temperature in Fahrenheit: 44\n",
            "Temperature in celsius:  6.666666666666667\n"
          ]
        }
      ]
    },
    {
      "cell_type": "markdown",
      "source": [
        "**5. Given below is a code. Briefly comment on each code line using '#' symbol and  predict what the program is intended for (1.5 Marks)**."
      ],
      "metadata": {
        "id": "AB6gRUOHVUJ6"
      }
    },
    {
      "cell_type": "code",
      "source": [
        "num = int(input(\"Enter a number: \")) ## Get the input from the user\n",
        "if (num % 2) == 0: ## this condition is used to check whether given number is even or odd\n",
        "   print(f\"{num} is Even\") ## if condition is true, its an even num\n",
        "else: #### if condition is fails else part will be executed\n",
        "   print(f\"{num} is Odd\") ## it is an odd num"
      ],
      "metadata": {
        "id": "J9S5kgt0Xs63",
        "colab": {
          "base_uri": "https://localhost:8080/"
        },
        "outputId": "519b9e87-ef6d-4103-8c24-3c90b032a2b8"
      },
      "execution_count": 5,
      "outputs": [
        {
          "output_type": "stream",
          "name": "stdout",
          "text": [
            "Enter a number: 3\n",
            "3 is Odd\n"
          ]
        }
      ]
    },
    {
      "cell_type": "markdown",
      "source": [
        "Your answer here"
      ],
      "metadata": {
        "id": "z7iNGOgAcfmU"
      }
    },
    {
      "cell_type": "markdown",
      "source": [
        "**6. A list of grades of students is given below. Find the unique grades in them. (1 Mark)**\n",
        "\n",
        "Grades = ['A', 'A', 'B', 'C', 'D', 'B', 'B', 'C', 'D', 'E', 'C', 'C', 'A', 'NA', 'B', 'F', 'D', 'C', 'B', 'C', 'A', 'B', 'E','NA', 'C']"
      ],
      "metadata": {
        "id": "aQQ1_55-YT1A"
      }
    },
    {
      "cell_type": "code",
      "source": [
        "Grades_Set = {'A', 'A', 'B', 'C', 'D', 'B', 'B', 'C', 'D', 'E', 'C', 'C', 'A', 'NA', 'B', 'F', 'D', 'C', 'B', 'C', 'A', 'B', 'E','NA', 'C'}\n",
        "Grades_Set\n",
        "\n"
      ],
      "metadata": {
        "id": "k3X_K-15cyF8",
        "colab": {
          "base_uri": "https://localhost:8080/"
        },
        "outputId": "4a478038-f487-4f98-eeaa-147bd4ba1ab8"
      },
      "execution_count": 11,
      "outputs": [
        {
          "output_type": "execute_result",
          "data": {
            "text/plain": [
              "{'A', 'B', 'C', 'D', 'E', 'F', 'NA'}"
            ]
          },
          "metadata": {},
          "execution_count": 11
        }
      ]
    },
    {
      "cell_type": "code",
      "source": [
        "import pandas as pd\n",
        "import numpy as np\n",
        "\n",
        "def convert(Grades):\n",
        " return set(Grades)  \n",
        "\n",
        "Grades = ['A', 'A', 'B', 'C', 'D', 'B', 'B', 'C', 'D', 'E', 'C', 'C', 'A', 'NA', 'B', 'F', 'D', 'C', 'B', 'C', 'A', 'B', 'E','NA', 'C']\n",
        "convert(Grades)\n",
        "\n"
      ],
      "metadata": {
        "colab": {
          "base_uri": "https://localhost:8080/"
        },
        "id": "ZvSf6Uxt9-xc",
        "outputId": "224311c1-6d77-4136-f1af-f8b728246151"
      },
      "execution_count": 18,
      "outputs": [
        {
          "output_type": "execute_result",
          "data": {
            "text/plain": [
              "{'A', 'B', 'C', 'D', 'E', 'F', 'NA'}"
            ]
          },
          "metadata": {},
          "execution_count": 18
        }
      ]
    }
  ]
}